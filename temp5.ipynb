{
 "cells": [
  {
   "cell_type": "code",
   "execution_count": 2,
   "metadata": {},
   "outputs": [],
   "source": [
    "import platform\n",
    "import os\n",
    "import pandas as pd\n",
    "import numpy as np\n",
    "import sys\n",
    "import ydata_profiling\n",
    "import matplotlib.pyplot as plt\n",
    "import math\n",
    "\n",
    "\n",
    "filename = '20221118_before_drop.csv'\n",
    "filepath = os.path.abspath(os.path.join(os.getcwd(),r'Results',filename))\n",
    "plt.rc('font', family='Malgun Gothic')"
   ]
  },
  {
   "cell_type": "code",
   "execution_count": 4,
   "metadata": {},
   "outputs": [],
   "source": [
    "data = pd.read_csv(filepath,index_col=0)"
   ]
  },
  {
   "cell_type": "code",
   "execution_count": 5,
   "metadata": {},
   "outputs": [
    {
     "data": {
      "text/plain": [
       "  2022-03-08 11:00    5\n",
       "  2020-08-14 10:00    5\n",
       "  2021-12-16 10:00    5\n",
       "  2020-04-08 10:00    5\n",
       "  2022-07-04 09:00    4\n",
       "                     ..\n",
       "  2020-08-20 14:30    1\n",
       "  2020-08-20 15:30    1\n",
       "  2020-08-20 17:00    1\n",
       "  2020-08-21 08:49    1\n",
       "  2022-10-22 07:55    1\n",
       "Name: 사고일시, Length: 12688, dtype: int64"
      ]
     },
     "execution_count": 5,
     "metadata": {},
     "output_type": "execute_result"
    }
   ],
   "source": [
    "data['사고일시'].value_counts()"
   ]
  },
  {
   "cell_type": "code",
   "execution_count": 6,
   "metadata": {},
   "outputs": [
    {
     "data": {
      "text/plain": [
       "2018-03-16    132\n",
       "2015-10-29    124\n",
       "2019-04-01    120\n",
       "2018-12-31    104\n",
       "2018-10-18     98\n",
       "             ... \n",
       "2018-02-06      1\n",
       "2020-10-11      1\n",
       "2019-07-27      1\n",
       "2018-03-23      1\n",
       "2022-05-24      1\n",
       "Name: 공사시작일, Length: 1785, dtype: int64"
      ]
     },
     "execution_count": 6,
     "metadata": {},
     "output_type": "execute_result"
    }
   ],
   "source": [
    "data['공사시작일'].value_counts()"
   ]
  },
  {
   "cell_type": "code",
   "execution_count": 7,
   "metadata": {},
   "outputs": [
    {
     "data": {
      "text/plain": [
       "2021-12-31    379\n",
       "2022-12-31    277\n",
       "2020-12-31    222\n",
       "2021-06-30    217\n",
       "2022-02-28    182\n",
       "             ... \n",
       "2024-12-19      1\n",
       "2018-12-17      1\n",
       "2022-04-03      1\n",
       "2019-07-05      1\n",
       "2024-07-14      1\n",
       "Name: 공사종료일, Length: 1733, dtype: int64"
      ]
     },
     "execution_count": 7,
     "metadata": {},
     "output_type": "execute_result"
    }
   ],
   "source": [
    "data['공사종료일'].value_counts()"
   ]
  },
  {
   "cell_type": "code",
   "execution_count": 21,
   "metadata": {},
   "outputs": [
    {
     "data": {
      "text/html": [
       "<div>\n",
       "<style scoped>\n",
       "    .dataframe tbody tr th:only-of-type {\n",
       "        vertical-align: middle;\n",
       "    }\n",
       "\n",
       "    .dataframe tbody tr th {\n",
       "        vertical-align: top;\n",
       "    }\n",
       "\n",
       "    .dataframe thead th {\n",
       "        text-align: right;\n",
       "    }\n",
       "</style>\n",
       "<table border=\"1\" class=\"dataframe\">\n",
       "  <thead>\n",
       "    <tr style=\"text-align: right;\">\n",
       "      <th></th>\n",
       "      <th>공공민간구분</th>\n",
       "      <th>공사시작일</th>\n",
       "      <th>공사종료일</th>\n",
       "    </tr>\n",
       "  </thead>\n",
       "  <tbody>\n",
       "    <tr>\n",
       "      <th>1170</th>\n",
       "      <td>공공</td>\n",
       "      <td>2003-12-24</td>\n",
       "      <td>2020-12-31</td>\n",
       "    </tr>\n",
       "    <tr>\n",
       "      <th>5587</th>\n",
       "      <td>공공</td>\n",
       "      <td>2003-12-24</td>\n",
       "      <td>2020-12-31</td>\n",
       "    </tr>\n",
       "    <tr>\n",
       "      <th>3781</th>\n",
       "      <td>공공</td>\n",
       "      <td>2006-03-15</td>\n",
       "      <td>2023-12-31</td>\n",
       "    </tr>\n",
       "    <tr>\n",
       "      <th>4799</th>\n",
       "      <td>공공</td>\n",
       "      <td>2006-03-15</td>\n",
       "      <td>2023-12-31</td>\n",
       "    </tr>\n",
       "    <tr>\n",
       "      <th>2239</th>\n",
       "      <td>공공</td>\n",
       "      <td>2009-12-24</td>\n",
       "      <td>2020-05-05</td>\n",
       "    </tr>\n",
       "    <tr>\n",
       "      <th>...</th>\n",
       "      <td>...</td>\n",
       "      <td>...</td>\n",
       "      <td>...</td>\n",
       "    </tr>\n",
       "    <tr>\n",
       "      <th>14201</th>\n",
       "      <td>공공</td>\n",
       "      <td>2022-05-02</td>\n",
       "      <td>2022-10-28</td>\n",
       "    </tr>\n",
       "    <tr>\n",
       "      <th>13769</th>\n",
       "      <td>민간</td>\n",
       "      <td>2022-05-31</td>\n",
       "      <td>2024-12-30</td>\n",
       "    </tr>\n",
       "    <tr>\n",
       "      <th>13476</th>\n",
       "      <td>민간</td>\n",
       "      <td>2022-05-31</td>\n",
       "      <td>2024-12-30</td>\n",
       "    </tr>\n",
       "    <tr>\n",
       "      <th>14274</th>\n",
       "      <td>공공</td>\n",
       "      <td>2022-06-28</td>\n",
       "      <td>2022-09-25</td>\n",
       "    </tr>\n",
       "    <tr>\n",
       "      <th>13914</th>\n",
       "      <td>공공</td>\n",
       "      <td>2022-06-28</td>\n",
       "      <td>2022-09-25</td>\n",
       "    </tr>\n",
       "  </tbody>\n",
       "</table>\n",
       "<p>7124 rows × 3 columns</p>\n",
       "</div>"
      ],
      "text/plain": [
       "      공공민간구분       공사시작일       공사종료일\n",
       "1170      공공  2003-12-24  2020-12-31\n",
       "5587      공공  2003-12-24  2020-12-31\n",
       "3781      공공  2006-03-15  2023-12-31\n",
       "4799      공공  2006-03-15  2023-12-31\n",
       "2239      공공  2009-12-24  2020-05-05\n",
       "...      ...         ...         ...\n",
       "14201     공공  2022-05-02  2022-10-28\n",
       "13769     민간  2022-05-31  2024-12-30\n",
       "13476     민간  2022-05-31  2024-12-30\n",
       "14274     공공  2022-06-28  2022-09-25\n",
       "13914     공공  2022-06-28  2022-09-25\n",
       "\n",
       "[7124 rows x 3 columns]"
      ]
     },
     "execution_count": 21,
     "metadata": {},
     "output_type": "execute_result"
    }
   ],
   "source": [
    "dup3 = data.duplicated(['공사시작일','공사종료일'], keep=False)\n",
    "df_dup4 = pd.concat([data, dup3], axis=1)\n",
    "df_dup4.rename(columns = {0 : 'Dup'}, inplace = True)\n",
    "df_dup4.loc[df_dup4['Dup'] == True][['공공민간구분','공사시작일','공사종료일']].sort_values('공사시작일')\n"
   ]
  },
  {
   "cell_type": "code",
   "execution_count": null,
   "metadata": {},
   "outputs": [],
   "source": []
  }
 ],
 "metadata": {
  "kernelspec": {
   "display_name": "Python 3",
   "language": "python",
   "name": "python3"
  },
  "language_info": {
   "codemirror_mode": {
    "name": "ipython",
    "version": 3
   },
   "file_extension": ".py",
   "mimetype": "text/x-python",
   "name": "python",
   "nbconvert_exporter": "python",
   "pygments_lexer": "ipython3",
   "version": "3.8.10"
  },
  "orig_nbformat": 4
 },
 "nbformat": 4,
 "nbformat_minor": 2
}
