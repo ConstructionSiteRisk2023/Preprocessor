{
 "cells": [
  {
   "cell_type": "code",
   "execution_count": 5,
   "metadata": {},
   "outputs": [],
   "source": [
    "from Modules import Preprocessor\n",
    "import os\n",
    "\n",
    "cwd = os.getcwd()\n",
    "pp = Preprocessor(cwd)\n",
    "pp.setFilename(\"국토안전관리원_건설안전사고사례_20221118.csv\")\n",
    "pp.openFile()"
   ]
  },
  {
   "cell_type": "code",
   "execution_count": 12,
   "metadata": {},
   "outputs": [],
   "source": []
  },
  {
   "cell_type": "code",
   "execution_count": 64,
   "metadata": {},
   "outputs": [
    {
     "data": {
      "text/plain": [
       "기타 건축     5272\n",
       "공동주택      4117\n",
       "토목        2993\n",
       "공장        1152\n",
       "산업환경설비     619\n",
       "조경         136\n",
       "Name: 시설물 분류, dtype: int64"
      ]
     },
     "execution_count": 64,
     "metadata": {},
     "output_type": "execute_result"
    }
   ],
   "source": [
    "data = pp.data\n",
    "for idx, row in data.iterrows():\n",
    "    if row['시설물 대분류'] == '건축':\n",
    "        if row['시설물 소분류'] == \"공동주택\" or row['시설물 소분류'] == \"공장\":\n",
    "            data.at[idx, '시설물 대분류'] = row['시설물 소분류']\n",
    "        else:\n",
    "            data.at[idx, '시설물 대분류'] = '기타 건축'\n",
    "\n",
    "data = data.drop(['시설물 중분류', '시설물 소분류'], axis=1)\n",
    "data= data.rename(columns={\"시설물 대분류\" : \"시설물 분류\"})\n",
    "# data\n",
    "data['시설물 분류'].value_counts()"
   ]
  },
  {
   "cell_type": "code",
   "execution_count": 65,
   "metadata": {},
   "outputs": [
    {
     "data": {
      "text/plain": [
       "넘어짐       3368\n",
       "떨어짐       2801\n",
       "물체에 맞음    2201\n",
       "끼임        1558\n",
       "기타        1518\n",
       "절단, 베임    1016\n",
       "부딪힘        949\n",
       "깔림         302\n",
       "질병         190\n",
       "찔림         170\n",
       "화상          95\n",
       "교통사고        74\n",
       "감전          34\n",
       "질식          13\n",
       "Name: 인적사고종류, dtype: int64"
      ]
     },
     "execution_count": 65,
     "metadata": {},
     "output_type": "execute_result"
    }
   ],
   "source": [
    "\n",
    "for idx, row in data.iterrows():\n",
    "    if row['인적사고종류(대분류)'] == '미입력' or row['인적사고종류(대분류)'] == '없음' or row['인적사고종류(대분류)'] == '분류불능':\n",
    "        data.at[idx, '인적사고종류(대분류)'] = '기타'\n",
    "\n",
    "data = data.drop(['인적사고종류'], axis=1)\n",
    "data= data.rename(columns={\"인적사고종류(대분류)\" : \"인적사고종류\"})\n",
    "data['인적사고종류'].value_counts()"
   ]
  },
  {
   "cell_type": "code",
   "execution_count": 70,
   "metadata": {},
   "outputs": [
    {
     "data": {
      "text/plain": [
       "넘어짐       3368\n",
       "떨어짐       2801\n",
       "물체에 맞음    2201\n",
       "끼임        1558\n",
       "기타        1404\n",
       "절단, 베임    1016\n",
       "부딪힘        949\n",
       "깔림         302\n",
       "질병         190\n",
       "찔림         170\n",
       "화상          95\n",
       "교통사고        74\n",
       "전도          41\n",
       "감전          34\n",
       "화재          29\n",
       "충돌          14\n",
       "질식          13\n",
       "붕괴          12\n",
       "탈락           6\n",
       "파열, 파단       6\n",
       "낙하           4\n",
       "폭발           2\n",
       "Name: 사고종류, dtype: int64"
      ]
     },
     "execution_count": 70,
     "metadata": {},
     "output_type": "execute_result"
    }
   ],
   "source": [
    "for idx, row in data.iterrows():\n",
    "    if row['물적사고종류'] == '미입력' or row['물적사고종류'] == '없음' :\n",
    "        data.at[idx, '물적사고종류'] = '기타'\n",
    "\n",
    "for idx, row in data.iterrows():\n",
    "    if row['인적사고종류'] == '기타' :\n",
    "        data.at[idx, '사고종류'] = row['물적사고종류']\n",
    "    else:\n",
    "        data.at[idx, '사고종류'] = row['인적사고종류']\n",
    "\n",
    "data['사고종류'].value_counts()"
   ]
  },
  {
   "cell_type": "code",
   "execution_count": 76,
   "metadata": {},
   "outputs": [
    {
     "data": {
      "text/html": [
       "<div>\n",
       "<style scoped>\n",
       "    .dataframe tbody tr th:only-of-type {\n",
       "        vertical-align: middle;\n",
       "    }\n",
       "\n",
       "    .dataframe tbody tr th {\n",
       "        vertical-align: top;\n",
       "    }\n",
       "\n",
       "    .dataframe thead th {\n",
       "        text-align: right;\n",
       "    }\n",
       "</style>\n",
       "<table border=\"1\" class=\"dataframe\">\n",
       "  <thead>\n",
       "    <tr style=\"text-align: right;\">\n",
       "      <th></th>\n",
       "      <th>시설물 분류</th>\n",
       "      <th>공종(대분류)</th>\n",
       "    </tr>\n",
       "  </thead>\n",
       "  <tbody>\n",
       "    <tr>\n",
       "      <th>0</th>\n",
       "      <td>기타 건축</td>\n",
       "      <td>기타</td>\n",
       "    </tr>\n",
       "    <tr>\n",
       "      <th>1</th>\n",
       "      <td>공동주택</td>\n",
       "      <td>건축</td>\n",
       "    </tr>\n",
       "    <tr>\n",
       "      <th>2</th>\n",
       "      <td>토목</td>\n",
       "      <td>토목</td>\n",
       "    </tr>\n",
       "    <tr>\n",
       "      <th>3</th>\n",
       "      <td>토목</td>\n",
       "      <td>토목</td>\n",
       "    </tr>\n",
       "    <tr>\n",
       "      <th>4</th>\n",
       "      <td>공동주택</td>\n",
       "      <td>전기설비</td>\n",
       "    </tr>\n",
       "    <tr>\n",
       "      <th>...</th>\n",
       "      <td>...</td>\n",
       "      <td>...</td>\n",
       "    </tr>\n",
       "    <tr>\n",
       "      <th>14284</th>\n",
       "      <td>기타 건축</td>\n",
       "      <td>건축</td>\n",
       "    </tr>\n",
       "    <tr>\n",
       "      <th>14285</th>\n",
       "      <td>기타 건축</td>\n",
       "      <td>건축</td>\n",
       "    </tr>\n",
       "    <tr>\n",
       "      <th>14286</th>\n",
       "      <td>토목</td>\n",
       "      <td>토목</td>\n",
       "    </tr>\n",
       "    <tr>\n",
       "      <th>14287</th>\n",
       "      <td>기타 건축</td>\n",
       "      <td>건축</td>\n",
       "    </tr>\n",
       "    <tr>\n",
       "      <th>14288</th>\n",
       "      <td>기타 건축</td>\n",
       "      <td>토목</td>\n",
       "    </tr>\n",
       "  </tbody>\n",
       "</table>\n",
       "<p>14289 rows × 2 columns</p>\n",
       "</div>"
      ],
      "text/plain": [
       "      시설물 분류 공종(대분류)\n",
       "0      기타 건축      기타\n",
       "1       공동주택      건축\n",
       "2         토목      토목\n",
       "3         토목      토목\n",
       "4       공동주택    전기설비\n",
       "...      ...     ...\n",
       "14284  기타 건축      건축\n",
       "14285  기타 건축      건축\n",
       "14286     토목      토목\n",
       "14287  기타 건축      건축\n",
       "14288  기타 건축      토목\n",
       "\n",
       "[14289 rows x 2 columns]"
      ]
     },
     "execution_count": 76,
     "metadata": {},
     "output_type": "execute_result"
    }
   ],
   "source": [
    "data[['시설물 분류','공종(대분류)']]"
   ]
  },
  {
   "cell_type": "code",
   "execution_count": 67,
   "metadata": {},
   "outputs": [
    {
     "data": {
      "text/html": [
       "<div>\n",
       "<style scoped>\n",
       "    .dataframe tbody tr th:only-of-type {\n",
       "        vertical-align: middle;\n",
       "    }\n",
       "\n",
       "    .dataframe tbody tr th {\n",
       "        vertical-align: top;\n",
       "    }\n",
       "\n",
       "    .dataframe thead th {\n",
       "        text-align: right;\n",
       "    }\n",
       "</style>\n",
       "<table border=\"1\" class=\"dataframe\">\n",
       "  <thead>\n",
       "    <tr style=\"text-align: right;\">\n",
       "      <th></th>\n",
       "      <th>물적사고종류</th>\n",
       "      <th>인적사고종류</th>\n",
       "    </tr>\n",
       "  </thead>\n",
       "  <tbody>\n",
       "    <tr>\n",
       "      <th>0</th>\n",
       "      <td>기타</td>\n",
       "      <td>끼임</td>\n",
       "    </tr>\n",
       "    <tr>\n",
       "      <th>1</th>\n",
       "      <td>기타</td>\n",
       "      <td>물체에 맞음</td>\n",
       "    </tr>\n",
       "    <tr>\n",
       "      <th>2</th>\n",
       "      <td>기타</td>\n",
       "      <td>떨어짐</td>\n",
       "    </tr>\n",
       "    <tr>\n",
       "      <th>3</th>\n",
       "      <td>기타</td>\n",
       "      <td>절단, 베임</td>\n",
       "    </tr>\n",
       "    <tr>\n",
       "      <th>4</th>\n",
       "      <td>기타</td>\n",
       "      <td>넘어짐</td>\n",
       "    </tr>\n",
       "    <tr>\n",
       "      <th>...</th>\n",
       "      <td>...</td>\n",
       "      <td>...</td>\n",
       "    </tr>\n",
       "    <tr>\n",
       "      <th>14284</th>\n",
       "      <td>기타</td>\n",
       "      <td>떨어짐</td>\n",
       "    </tr>\n",
       "    <tr>\n",
       "      <th>14285</th>\n",
       "      <td>기타</td>\n",
       "      <td>부딪힘</td>\n",
       "    </tr>\n",
       "    <tr>\n",
       "      <th>14286</th>\n",
       "      <td>기타</td>\n",
       "      <td>끼임</td>\n",
       "    </tr>\n",
       "    <tr>\n",
       "      <th>14287</th>\n",
       "      <td>기타</td>\n",
       "      <td>떨어짐</td>\n",
       "    </tr>\n",
       "    <tr>\n",
       "      <th>14288</th>\n",
       "      <td>기타</td>\n",
       "      <td>떨어짐</td>\n",
       "    </tr>\n",
       "  </tbody>\n",
       "</table>\n",
       "<p>13449 rows × 2 columns</p>\n",
       "</div>"
      ],
      "text/plain": [
       "      물적사고종류  인적사고종류\n",
       "0         기타      끼임\n",
       "1         기타  물체에 맞음\n",
       "2         기타     떨어짐\n",
       "3         기타  절단, 베임\n",
       "4         기타     넘어짐\n",
       "...      ...     ...\n",
       "14284     기타     떨어짐\n",
       "14285     기타     부딪힘\n",
       "14286     기타      끼임\n",
       "14287     기타     떨어짐\n",
       "14288     기타     떨어짐\n",
       "\n",
       "[13449 rows x 2 columns]"
      ]
     },
     "execution_count": 67,
     "metadata": {},
     "output_type": "execute_result"
    }
   ],
   "source": [
    "data[['물적사고종류','인적사고종류']].loc[data['물적사고종류'] == \"기타\"]"
   ]
  },
  {
   "cell_type": "code",
   "execution_count": null,
   "metadata": {},
   "outputs": [],
   "source": []
  },
  {
   "cell_type": "code",
   "execution_count": null,
   "metadata": {},
   "outputs": [],
   "source": [
    "pp.d"
   ]
  }
 ],
 "metadata": {
  "kernelspec": {
   "display_name": "Python 3",
   "language": "python",
   "name": "python3"
  },
  "language_info": {
   "codemirror_mode": {
    "name": "ipython",
    "version": 3
   },
   "file_extension": ".py",
   "mimetype": "text/x-python",
   "name": "python",
   "nbconvert_exporter": "python",
   "pygments_lexer": "ipython3",
   "version": "3.8.10"
  },
  "orig_nbformat": 4
 },
 "nbformat": 4,
 "nbformat_minor": 2
}
