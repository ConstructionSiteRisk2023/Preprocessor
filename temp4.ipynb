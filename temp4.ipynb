{
 "cells": [
  {
   "cell_type": "code",
   "execution_count": 1,
   "metadata": {},
   "outputs": [],
   "source": [
    "import platform\n",
    "import os\n",
    "import pandas as pd\n",
    "import numpy as np\n",
    "import sys\n",
    "import ydata_profiling\n",
    "import matplotlib.pyplot as plt\n",
    "import math\n",
    "\n",
    "\n",
    "filename = '20221118_cp949.csv'\n",
    "filepath = os.path.abspath(os.path.join(os.getcwd(),r'Results',filename))\n"
   ]
  },
  {
   "cell_type": "code",
   "execution_count": 2,
   "metadata": {},
   "outputs": [],
   "source": [
    "data = pd.read_csv(filepath,index_col=0,encoding='cp949')\n",
    "# data.to_csv(os.path.abspath(os.path.join(os.getcwd(),r'Results','20221118_cp949.csv')),encoding='cp949')"
   ]
  },
  {
   "cell_type": "code",
   "execution_count": 3,
   "metadata": {},
   "outputs": [
    {
     "name": "stderr",
     "output_type": "stream",
     "text": [
      "/home/rpf511/.local/lib/python3.8/site-packages/IPython/core/pylabtools.py:151: UserWarning: Glyph 48120 (\\N{HANGUL SYLLABLE MI}) missing from current font.\n",
      "  fig.canvas.print_figure(bytes_io, **kw)\n",
      "/home/rpf511/.local/lib/python3.8/site-packages/IPython/core/pylabtools.py:151: UserWarning: Glyph 47564 (\\N{HANGUL SYLLABLE MAN}) missing from current font.\n",
      "  fig.canvas.print_figure(bytes_io, **kw)\n",
      "/home/rpf511/.local/lib/python3.8/site-packages/IPython/core/pylabtools.py:151: UserWarning: Glyph 51060 (\\N{HANGUL SYLLABLE I}) missing from current font.\n",
      "  fig.canvas.print_figure(bytes_io, **kw)\n",
      "/home/rpf511/.local/lib/python3.8/site-packages/IPython/core/pylabtools.py:151: UserWarning: Glyph 49345 (\\N{HANGUL SYLLABLE SANG}) missing from current font.\n",
      "  fig.canvas.print_figure(bytes_io, **kw)\n",
      "/home/rpf511/.local/lib/python3.8/site-packages/IPython/core/pylabtools.py:151: UserWarning: Glyph 44277 (\\N{HANGUL SYLLABLE GONG}) missing from current font.\n",
      "  fig.canvas.print_figure(bytes_io, **kw)\n",
      "/home/rpf511/.local/lib/python3.8/site-packages/IPython/core/pylabtools.py:151: UserWarning: Glyph 51221 (\\N{HANGUL SYLLABLE JEONG}) missing from current font.\n",
      "  fig.canvas.print_figure(bytes_io, **kw)\n",
      "/home/rpf511/.local/lib/python3.8/site-packages/IPython/core/pylabtools.py:151: UserWarning: Glyph 50984 (\\N{HANGUL SYLLABLE YUL}) missing from current font.\n",
      "  fig.canvas.print_figure(bytes_io, **kw)\n"
     ]
    },
    {
     "data": {
      "image/png": "[encoded data removed]",
      "text/plain": [
       "<Figure size 432x288 with 1 Axes>"
      ]
     },
     "metadata": {
      "needs_background": "light"
     },
     "output_type": "display_data"
    }
   ],
   "source": [
    "temp = data.sort_values(\"공정율\")\n",
    "# temp['공정율']\n",
    "temp = temp['공정율'].value_counts().sort_index().to_frame()\n",
    "temp.plot(kind='bar',y='공정율')\n",
    "plt.show()"
   ]
  },
  {
   "cell_type": "code",
   "execution_count": 4,
   "metadata": {},
   "outputs": [
    {
     "data": {
      "text/plain": [
       "['공공민간구분',\n",
       " '날씨',\n",
       " '온도',\n",
       " '시설물 분류',\n",
       " '작업프로세스',\n",
       " '사망자',\n",
       " '20이상 30미만 사망자',\n",
       " '30이상 40미만 사망자',\n",
       " '40이상 50미만 사망자',\n",
       " '50이상 60미만 사망자',\n",
       " '60이상 사망자',\n",
       " '부상자',\n",
       " '20이상 30미만 부상자',\n",
       " '30이상 40미만 부상자',\n",
       " '40이상 50미만 부상자',\n",
       " '50이상 60미만 부상자',\n",
       " '60이상 부상자',\n",
       " '공정율',\n",
       " '설계안정성검토',\n",
       " 'Month',\n",
       " 'Time',\n",
       " '사고종류',\n",
       " '공종',\n",
       " '공사규모_0-5',\n",
       " '공사규모_5-10',\n",
       " '공사규모_10-30',\n",
       " '공사규모_30-50',\n",
       " '공사규모_50-100',\n",
       " '공사규모_100-500',\n",
       " '공사규모_500-1000',\n",
       " '공사규모_1000-',\n",
       " '공사기간']"
      ]
     },
     "execution_count": 4,
     "metadata": {},
     "output_type": "execute_result"
    }
   ],
   "source": [
    "list(data)"
   ]
  },
  {
   "cell_type": "code",
   "execution_count": 5,
   "metadata": {},
   "outputs": [
    {
     "data": {
      "text/plain": [
       "['공공민간구분',\n",
       " '날씨',\n",
       " '온도',\n",
       " '시설물 분류',\n",
       " '작업프로세스',\n",
       " '사망자',\n",
       " '20이상 30미만 사망자',\n",
       " '30이상 40미만 사망자',\n",
       " '40이상 50미만 사망자',\n",
       " '50이상 60미만 사망자',\n",
       " '60이상 사망자',\n",
       " '부상자',\n",
       " '20이상 30미만 부상자',\n",
       " '30이상 40미만 부상자',\n",
       " '40이상 50미만 부상자',\n",
       " '50이상 60미만 부상자',\n",
       " '60이상 부상자',\n",
       " '공정율',\n",
       " '설계안정성검토',\n",
       " 'Month',\n",
       " 'Time',\n",
       " '사고종류',\n",
       " '공종',\n",
       " '공사규모_0-5',\n",
       " '공사규모_5-10',\n",
       " '공사규모_10-30',\n",
       " '공사규모_30-50',\n",
       " '공사규모_50-100',\n",
       " '공사규모_100-500',\n",
       " '공사규모_500-1000',\n",
       " '공사규모_1000-',\n",
       " '공사기간']"
      ]
     },
     "execution_count": 5,
     "metadata": {},
     "output_type": "execute_result"
    }
   ],
   "source": [
    "\n",
    "list(data)"
   ]
  },
  {
   "cell_type": "code",
   "execution_count": 10,
   "metadata": {},
   "outputs": [
    {
     "name": "stderr",
     "output_type": "stream",
     "text": [
      "/home/rpf511/.local/lib/python3.8/site-packages/IPython/core/pylabtools.py:151: UserWarning: Glyph 51060 (\\N{HANGUL SYLLABLE I}) missing from current font.\n",
      "  fig.canvas.print_figure(bytes_io, **kw)\n",
      "/home/rpf511/.local/lib/python3.8/site-packages/IPython/core/pylabtools.py:151: UserWarning: Glyph 49345 (\\N{HANGUL SYLLABLE SANG}) missing from current font.\n",
      "  fig.canvas.print_figure(bytes_io, **kw)\n",
      "/home/rpf511/.local/lib/python3.8/site-packages/IPython/core/pylabtools.py:151: UserWarning: Glyph 48120 (\\N{HANGUL SYLLABLE MI}) missing from current font.\n",
      "  fig.canvas.print_figure(bytes_io, **kw)\n",
      "/home/rpf511/.local/lib/python3.8/site-packages/IPython/core/pylabtools.py:151: UserWarning: Glyph 47564 (\\N{HANGUL SYLLABLE MAN}) missing from current font.\n",
      "  fig.canvas.print_figure(bytes_io, **kw)\n",
      "/home/rpf511/.local/lib/python3.8/site-packages/IPython/core/pylabtools.py:151: UserWarning: Glyph 49324 (\\N{HANGUL SYLLABLE SA}) missing from current font.\n",
      "  fig.canvas.print_figure(bytes_io, **kw)\n",
      "/home/rpf511/.local/lib/python3.8/site-packages/IPython/core/pylabtools.py:151: UserWarning: Glyph 47581 (\\N{HANGUL SYLLABLE MANG}) missing from current font.\n",
      "  fig.canvas.print_figure(bytes_io, **kw)\n",
      "/home/rpf511/.local/lib/python3.8/site-packages/IPython/core/pylabtools.py:151: UserWarning: Glyph 51088 (\\N{HANGUL SYLLABLE JA}) missing from current font.\n",
      "  fig.canvas.print_figure(bytes_io, **kw)\n"
     ]
    },
    {
     "data": {
      "image/png": "[encoded data removed]",
      "text/plain": [
       "<Figure size 432x288 with 1 Axes>"
      ]
     },
     "metadata": {
      "needs_background": "light"
     },
     "output_type": "display_data"
    }
   ],
   "source": [
    "data[['20이상 30미만 사망자',\n",
    " '30이상 40미만 사망자',\n",
    " '40이상 50미만 사망자',\n",
    " '50이상 60미만 사망자',\n",
    " '60이상 사망자']].sum().plot(kind='bar')\n",
    "plt.show()"
   ]
  },
  {
   "cell_type": "code",
   "execution_count": 11,
   "metadata": {},
   "outputs": [
    {
     "name": "stderr",
     "output_type": "stream",
     "text": [
      "/home/rpf511/.local/lib/python3.8/site-packages/IPython/core/pylabtools.py:151: UserWarning: Glyph 51060 (\\N{HANGUL SYLLABLE I}) missing from current font.\n",
      "  fig.canvas.print_figure(bytes_io, **kw)\n",
      "/home/rpf511/.local/lib/python3.8/site-packages/IPython/core/pylabtools.py:151: UserWarning: Glyph 49345 (\\N{HANGUL SYLLABLE SANG}) missing from current font.\n",
      "  fig.canvas.print_figure(bytes_io, **kw)\n",
      "/home/rpf511/.local/lib/python3.8/site-packages/IPython/core/pylabtools.py:151: UserWarning: Glyph 48120 (\\N{HANGUL SYLLABLE MI}) missing from current font.\n",
      "  fig.canvas.print_figure(bytes_io, **kw)\n",
      "/home/rpf511/.local/lib/python3.8/site-packages/IPython/core/pylabtools.py:151: UserWarning: Glyph 47564 (\\N{HANGUL SYLLABLE MAN}) missing from current font.\n",
      "  fig.canvas.print_figure(bytes_io, **kw)\n",
      "/home/rpf511/.local/lib/python3.8/site-packages/IPython/core/pylabtools.py:151: UserWarning: Glyph 48512 (\\N{HANGUL SYLLABLE BU}) missing from current font.\n",
      "  fig.canvas.print_figure(bytes_io, **kw)\n",
      "/home/rpf511/.local/lib/python3.8/site-packages/IPython/core/pylabtools.py:151: UserWarning: Glyph 51088 (\\N{HANGUL SYLLABLE JA}) missing from current font.\n",
      "  fig.canvas.print_figure(bytes_io, **kw)\n"
     ]
    },
    {
     "data": {
      "image/png": "[encoded data removed]",
      "text/plain": [
       "<Figure size 432x288 with 1 Axes>"
      ]
     },
     "metadata": {
      "needs_background": "light"
     },
     "output_type": "display_data"
    }
   ],
   "source": [
    "data[['20이상 30미만 부상자',\n",
    " '30이상 40미만 부상자',\n",
    " '40이상 50미만 부상자',\n",
    " '50이상 60미만 부상자',\n",
    " '60이상 부상자']].sum().plot(kind='bar')\n",
    "plt.show()"
   ]
  },
  {
   "cell_type": "code",
   "execution_count": null,
   "metadata": {},
   "outputs": [],
   "source": []
  }
 ],
 "metadata": {
  "kernelspec": {
   "display_name": "Python 3",
   "language": "python",
   "name": "python3"
  },
  "language_info": {
   "codemirror_mode": {
    "name": "ipython",
    "version": 3
   },
   "file_extension": ".py",
   "mimetype": "text/x-python",
   "name": "python",
   "nbconvert_exporter": "python",
   "pygments_lexer": "ipython3",
   "version": "3.8.10"
  },
  "orig_nbformat": 4
 },
 "nbformat": 4,
 "nbformat_minor": 2
}
